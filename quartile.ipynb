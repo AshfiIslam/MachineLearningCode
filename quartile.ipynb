{
  "nbformat": 4,
  "nbformat_minor": 0,
  "metadata": {
    "colab": {
      "name": "quartile.ipynb",
      "provenance": [],
      "authorship_tag": "ABX9TyPEr93s7071NyIZX5VMQGWe",
      "include_colab_link": true
    },
    "kernelspec": {
      "name": "python3",
      "display_name": "Python 3"
    }
  },
  "cells": [
    {
      "cell_type": "markdown",
      "metadata": {
        "id": "view-in-github",
        "colab_type": "text"
      },
      "source": [
        "<a href=\"https://colab.research.google.com/github/AshfiIslam/MachineLearningCode/blob/main/quartile.ipynb\" target=\"_parent\"><img src=\"https://colab.research.google.com/assets/colab-badge.svg\" alt=\"Open In Colab\"/></a>"
      ]
    },
    {
      "cell_type": "code",
      "metadata": {
        "id": "XcJ82HdbE3DO"
      },
      "source": [
        "import numpy as np\n"
      ],
      "execution_count": null,
      "outputs": []
    },
    {
      "cell_type": "code",
      "metadata": {
        "id": "rnqcOYX3FCCy",
        "colab": {
          "base_uri": "https://localhost:8080/",
          "height": 85
        },
        "outputId": "cb93dd8a-0091-4325-d7ae-5109262ea69c"
      },
      "source": [
        "dataset=[8,9,2,10,3,5,7,12,15]\n",
        "\n",
        "Q1= np.percentile(dataset,25)\n",
        "print('Q1= ',Q1)\n",
        "\n",
        "Q2= np.percentile(dataset,50)\n",
        "print('Q2= ',Q2)\n",
        "\n",
        "Q3= np.percentile(dataset,75)\n",
        "print('Q3= ',Q3)\n",
        "\n",
        "IQR = Q3 -Q1\n",
        "print('IQR= ',IQR)"
      ],
      "execution_count": null,
      "outputs": [
        {
          "output_type": "stream",
          "text": [
            "Q1=  5.0\n",
            "Q2=  8.0\n",
            "Q3=  10.0\n",
            "IQR=  5.0\n"
          ],
          "name": "stdout"
        }
      ]
    },
    {
      "cell_type": "code",
      "metadata": {
        "id": "MjYAmUposhTV"
      },
      "source": [
        ""
      ],
      "execution_count": null,
      "outputs": []
    },
    {
      "cell_type": "code",
      "metadata": {
        "id": "CN_TXUkrF5gI",
        "colab": {
          "base_uri": "https://localhost:8080/",
          "height": 34
        },
        "outputId": "0149776d-dbe0-4c38-d507-c5b1d95e732c"
      },
      "source": [
        "IQR = Q3 -Q2\n",
        "print('IQR= ',IQR)"
      ],
      "execution_count": null,
      "outputs": [
        {
          "output_type": "stream",
          "text": [
            "IQR=  2.0\n"
          ],
          "name": "stdout"
        }
      ]
    }
  ]
}