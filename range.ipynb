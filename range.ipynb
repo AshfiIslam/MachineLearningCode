{
  "nbformat": 4,
  "nbformat_minor": 0,
  "metadata": {
    "colab": {
      "name": "range.ipynb",
      "provenance": [],
      "authorship_tag": "ABX9TyMCHdrWBlyKibJ3S0/Blltu",
      "include_colab_link": true
    },
    "kernelspec": {
      "name": "python3",
      "display_name": "Python 3"
    }
  },
  "cells": [
    {
      "cell_type": "markdown",
      "metadata": {
        "id": "view-in-github",
        "colab_type": "text"
      },
      "source": [
        "<a href=\"https://colab.research.google.com/github/AshfiIslam/MachineLearningCode/blob/main/range.ipynb\" target=\"_parent\"><img src=\"https://colab.research.google.com/assets/colab-badge.svg\" alt=\"Open In Colab\"/></a>"
      ]
    },
    {
      "cell_type": "code",
      "metadata": {
        "id": "U_SU29jmV2Du"
      },
      "source": [
        "import numpy\n"
      ],
      "execution_count": null,
      "outputs": []
    },
    {
      "cell_type": "code",
      "metadata": {
        "id": "fnX1V4u3WbjS",
        "colab": {
          "base_uri": "https://localhost:8080/",
          "height": 34
        },
        "outputId": "ed487f9c-c9db-4f9c-a1c8-62fac275b2f4"
      },
      "source": [
        "n = numpy.random.randint(5,30,20)\n",
        "print(n)"
      ],
      "execution_count": null,
      "outputs": [
        {
          "output_type": "stream",
          "text": [
            "[18 18 27 16  6 24  6 16  9 23 24 19 21  8 13 26 17  5 12  7]\n"
          ],
          "name": "stdout"
        }
      ]
    },
    {
      "cell_type": "code",
      "metadata": {
        "id": "0WR7Fxk7WxEI",
        "colab": {
          "base_uri": "https://localhost:8080/",
          "height": 34
        },
        "outputId": "eac77e24-261d-4d3f-bc2b-3c498a70aad5"
      },
      "source": [
        "result = numpy.max(n) - numpy.min(n)\n",
        "print('result is: ',result)"
      ],
      "execution_count": null,
      "outputs": [
        {
          "output_type": "stream",
          "text": [
            "result is:  22\n"
          ],
          "name": "stdout"
        }
      ]
    }
  ]
}